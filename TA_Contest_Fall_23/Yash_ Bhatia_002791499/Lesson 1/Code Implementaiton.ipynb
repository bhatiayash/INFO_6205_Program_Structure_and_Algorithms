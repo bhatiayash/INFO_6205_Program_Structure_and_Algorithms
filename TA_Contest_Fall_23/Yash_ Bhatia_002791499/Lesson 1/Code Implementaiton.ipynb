{
  "cells": [
    {
      "cell_type": "markdown",
      "metadata": {
        "id": "O78mZIx_UW1L"
      },
      "source": [
        "# Python3 code to implement iterative Binary Search:"
      ]
    },
    {
      "cell_type": "code",
      "execution_count": 1,
      "metadata": {
        "colab": {
          "base_uri": "https://localhost:8080/"
        },
        "id": "3gMh6ZKDUpP0",
        "outputId": "f569db54-30be-4b70-e6ff-50e211292f39"
      },
      "outputs": [
        {
          "name": "stdout",
          "output_type": "stream",
          "text": [
            "7 is present at index 3\n"
          ]
        }
      ],
      "source": [
        "def binary_search(arr, x):\n",
        "    \"\"\"\n",
        "    Performs iterative binary search to find the index of an element in a sorted array.\n",
        "\n",
        "    Args:\n",
        "    arr: A sorted list of integers.\n",
        "    x: The integer to search for in the array.\n",
        "\n",
        "    Returns:\n",
        "    The index of x in arr if x is present, else -1.\n",
        "    \"\"\"\n",
        "    low = 0\n",
        "    high = len(arr) - 1\n",
        "\n",
        "    while low <= high:\n",
        "        mid = (low + high) // 2\n",
        "\n",
        "        if arr[mid] == x:\n",
        "            return mid\n",
        "        elif arr[mid] < x:\n",
        "            low = mid + 1\n",
        "        else:\n",
        "            high = mid - 1\n",
        "\n",
        "    return -1\n",
        "arr = [1, 3, 5, 7, 9]\n",
        "x = 7\n",
        "index = binary_search(arr, x)\n",
        "if index != -1:\n",
        "    print(f\"{x} is present at index {index}\")\n",
        "else:\n",
        "    print(f\"{x} is not present in the array\")"
      ]
    },
    {
      "cell_type": "markdown",
      "metadata": {
        "id": "ZopU7wHmUt1i"
      },
      "source": [
        "# Python3 Program for recursive binary search:"
      ]
    },
    {
      "cell_type": "code",
      "execution_count": 2,
      "metadata": {
        "colab": {
          "base_uri": "https://localhost:8080/"
        },
        "id": "6cwkcAkPU1fZ",
        "outputId": "d03da282-7f2b-4d1a-d6db-924d133c99f0"
      },
      "outputs": [
        {
          "name": "stdout",
          "output_type": "stream",
          "text": [
            "Element is present at index 3\n"
          ]
        }
      ],
      "source": [
        "def binary_search(arr, low, high, x):\n",
        "    \"\"\"\n",
        "    Recursive binary search function to find the index of element x in array arr.\n",
        "    Returns -1 if element is not present in the array.\n",
        "    \"\"\"\n",
        "    # Check base case\n",
        "    if high >= low:\n",
        "        mid = (high + low) // 2\n",
        " \n",
        "        # If element is present at the middle itself\n",
        "        if arr[mid] == x:\n",
        "            return mid\n",
        " \n",
        "        # If element is smaller than mid, then it can only be present in left subarray\n",
        "        elif arr[mid] > x:\n",
        "            return binary_search(arr, low, mid - 1, x)\n",
        " \n",
        "        # Else the element can only be present in right subarray\n",
        "        else:\n",
        "            return binary_search(arr, mid + 1, high, x)\n",
        " \n",
        "    else:\n",
        "        # Element is not present in array\n",
        "        return -1\n",
        "\n",
        "\n",
        "# Example usage\n",
        "arr = [2, 3, 4, 10, 40]\n",
        "x = 10\n",
        "result = binary_search(arr, 0, len(arr) - 1, x)\n",
        "\n",
        "if result != -1:\n",
        "    print(\"Element is present at index\", str(result))\n",
        "else:\n",
        "    print(\"Element is not present in array\")"
      ]
    },
    {
      "cell_type": "markdown",
      "metadata": {},
      "source": [
        "# Implementation of the Merge Sort algorithm in Python:"
      ]
    },
    {
      "cell_type": "code",
      "execution_count": null,
      "metadata": {},
      "outputs": [
        {
          "name": "stdout",
          "output_type": "stream",
          "text": [
            "[5, 6, 7, 11, 12, 13]\n"
          ]
        }
      ],
      "source": [
        "def merge_sort(arr):\n",
        "    if len(arr) <= 1:\n",
        "        return arr\n",
        "    \n",
        "    mid = len(arr) // 2\n",
        "    left_half = arr[:mid]\n",
        "    right_half = arr[mid:]\n",
        "    \n",
        "    left_half = merge_sort(left_half)\n",
        "    right_half = merge_sort(right_half)\n",
        "    \n",
        "    return merge(left_half, right_half)\n",
        "\n",
        "def merge(left, right):\n",
        "    result = []\n",
        "    i = j = 0\n",
        "    \n",
        "    while i < len(left) and j < len(right):\n",
        "        if left[i] < right[j]:\n",
        "            result.append(left[i])\n",
        "            i += 1\n",
        "        else:\n",
        "            result.append(right[j])\n",
        "            j += 1\n",
        "            \n",
        "    result.extend(left[i:])\n",
        "    result.extend(right[j:])\n",
        "    return result\n",
        "\n",
        "# Example usage\n",
        "arr = [12, 11, 13, 5, 6, 7]\n",
        "sorted_arr = merge_sort(arr)\n",
        "print(sorted_arr)\n"
      ]
    },
    {
      "cell_type": "markdown",
      "metadata": {},
      "source": [
        "# Implementation of the Quick Sort algorithm in Python:"
      ]
    },
    {
      "cell_type": "code",
      "execution_count": 1,
      "metadata": {},
      "outputs": [
        {
          "name": "stdout",
          "output_type": "stream",
          "text": [
            "[5, 6, 7, 11, 12, 13]\n"
          ]
        }
      ],
      "source": [
        "def quick_sort(arr, low, high):\n",
        "    if low < high:\n",
        "        pivot_index = partition(arr, low, high)\n",
        "        quick_sort(arr, low, pivot_index - 1)\n",
        "        quick_sort(arr, pivot_index + 1, high)\n",
        "\n",
        "def partition(arr, low, high):\n",
        "    pivot = arr[high]\n",
        "    i = low - 1\n",
        "    \n",
        "    for j in range(low, high):\n",
        "        if arr[j] <= pivot:\n",
        "            i += 1\n",
        "            arr[i], arr[j] = arr[j], arr[i]\n",
        "    \n",
        "    arr[i + 1], arr[high] = arr[high], arr[i + 1]\n",
        "    return i + 1\n",
        "\n",
        "# Example usage\n",
        "arr = [12, 11, 13, 5, 6, 7]\n",
        "quick_sort(arr, 0, len(arr) - 1)\n",
        "print(arr)\n"
      ]
    }
  ],
  "metadata": {
    "colab": {
      "provenance": []
    },
    "kernelspec": {
      "display_name": "Python 3.11.2 64-bit",
      "language": "python",
      "name": "python3"
    },
    "language_info": {
      "codemirror_mode": {
        "name": "ipython",
        "version": 3
      },
      "file_extension": ".py",
      "mimetype": "text/x-python",
      "name": "python",
      "nbconvert_exporter": "python",
      "pygments_lexer": "ipython3",
      "version": "3.11.2"
    },
    "vscode": {
      "interpreter": {
        "hash": "b0fa6594d8f4cbf19f97940f81e996739fb7646882a419484c72d19e05852a7e"
      }
    }
  },
  "nbformat": 4,
  "nbformat_minor": 0
}
